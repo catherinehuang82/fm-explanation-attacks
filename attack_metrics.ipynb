{
 "cells": [
  {
   "cell_type": "code",
   "execution_count": 1,
   "id": "71a14f10",
   "metadata": {},
   "outputs": [],
   "source": [
    "import numpy as np\n",
    "import pandas as pd\n",
    "import torch\n",
    "from tqdm.auto import tqdm\n",
    "import matplotlib.pyplot as plt\n",
    "from IPython import display\n",
    "import random\n",
    "import scipy.stats\n",
    "from sklearn import metrics\n",
    "from sklearn.metrics import roc_curve\n",
    "import os"
   ]
  },
  {
   "cell_type": "markdown",
   "id": "9f04981e",
   "metadata": {},
   "source": [
    "## Attack Metrics Tables\n",
    "\n",
    "This notebook generates tables that succinctly display AUC and TPR @ FPR = 0.01, 0.001 for a particular inputted attack setting. Each table compares with either Shokri et al.'s explanation variance thresholding baseline or Carlini et al.'s loss LiRA baseline.\n",
    "\n",
    "For display purposes, we show the following attack setting:\n",
    "* Dataset: CIFAR10\n",
    "* Explanation type: Input * Gradient (IXG)\n",
    "* Model: vit_small_patch16_224\n",
    "* Attack type: L1-LRT"
   ]
  },
  {
   "cell_type": "markdown",
   "id": "8edcf5dc",
   "metadata": {},
   "source": [
    "### Comparing L1-LRT with Shokri et al.'s Thresholding"
   ]
  },
  {
   "cell_type": "code",
   "execution_count": 13,
   "id": "7a9f1237",
   "metadata": {},
   "outputs": [
    {
     "data": {
      "application/vnd.jupyter.widget-view+json": {
       "model_id": "dedeaeae6e5743c88c8c57a793fb70f3",
       "version_major": 2,
       "version_minor": 0
      },
      "text/plain": [
       "  0%|          | 0/1 [00:00<?, ?it/s]"
      ]
     },
     "metadata": {},
     "output_type": "display_data"
    },
    {
     "name": "stdout",
     "output_type": "stream",
     "text": [
      "{'explanation_type': 'ixg', 'epochs': 30, 'tpr01_mean': 0.15621818181818184, 'tpr01_sd': 0.015731987382312674, 'tpr01_thres_mean': 0.011154545454545453, 'tpr01_thres_sd': 0.0027355228749635844, 'tpr001_mean': 0.0921939393939394, 'tpr001_sd': 0.018633660311446795, 'tpr001_thres_mean': 0.0015515151515151514, 'tpr001_thres_sd': 0.0008464260737095001, 'auc_mean': 0.6380133166666668, 'auc_sd': 0.007334452739926561, 'auc_thres_mean': 0.5590237734848484, 'auc_thres_sd': 0.0057550229672714585}\n"
     ]
    },
    {
     "data": {
      "text/html": [
       "<div>\n",
       "<style scoped>\n",
       "    .dataframe tbody tr th:only-of-type {\n",
       "        vertical-align: middle;\n",
       "    }\n",
       "\n",
       "    .dataframe tbody tr th {\n",
       "        vertical-align: top;\n",
       "    }\n",
       "\n",
       "    .dataframe thead th {\n",
       "        text-align: right;\n",
       "    }\n",
       "</style>\n",
       "<table border=\"1\" class=\"dataframe\">\n",
       "  <thead>\n",
       "    <tr style=\"text-align: right;\">\n",
       "      <th></th>\n",
       "      <th>explanation_type</th>\n",
       "      <th>epochs</th>\n",
       "      <th>tpr_01_mean</th>\n",
       "      <th>tpr01_sd</th>\n",
       "      <th>tpr_01_thres_mean</th>\n",
       "      <th>tpr01_thres_sd</th>\n",
       "      <th>tpr_001_mean</th>\n",
       "      <th>tpr_001_sd</th>\n",
       "      <th>tpr_001_thres_mean</th>\n",
       "      <th>tpr_001_thres_sd</th>\n",
       "      <th>auc_mean</th>\n",
       "      <th>auc_sd</th>\n",
       "      <th>auc_thres_mean</th>\n",
       "      <th>auc_thres_sd</th>\n",
       "    </tr>\n",
       "  </thead>\n",
       "  <tbody>\n",
       "    <tr>\n",
       "      <th>0</th>\n",
       "      <td>ixg</td>\n",
       "      <td>30</td>\n",
       "      <td>0.156218</td>\n",
       "      <td>0.015732</td>\n",
       "      <td>0.011155</td>\n",
       "      <td>0.002736</td>\n",
       "      <td>0.092194</td>\n",
       "      <td>0.018634</td>\n",
       "      <td>0.001552</td>\n",
       "      <td>0.000846</td>\n",
       "      <td>0.638013</td>\n",
       "      <td>0.007334</td>\n",
       "      <td>0.559024</td>\n",
       "      <td>0.005755</td>\n",
       "    </tr>\n",
       "  </tbody>\n",
       "</table>\n",
       "</div>"
      ],
      "text/plain": [
       "  explanation_type  epochs  tpr_01_mean  tpr01_sd  tpr_01_thres_mean  \\\n",
       "0              ixg      30     0.156218  0.015732           0.011155   \n",
       "\n",
       "   tpr01_thres_sd  tpr_001_mean  tpr_001_sd  tpr_001_thres_mean  \\\n",
       "0        0.002736      0.092194    0.018634            0.001552   \n",
       "\n",
       "   tpr_001_thres_sd  auc_mean    auc_sd  auc_thres_mean  auc_thres_sd  \n",
       "0          0.000846  0.638013  0.007334        0.559024      0.005755  "
      ]
     },
     "execution_count": 13,
     "metadata": {},
     "output_type": "execute_result"
    }
   ],
   "source": [
    "num_experiments=33\n",
    "epochs_nondp = [30]\n",
    "model='vit_small_patch16_224' # 'vit_relpos_small_patch16_224.sw_in1k'\n",
    "clipping_mode_nondp='nonDP'\n",
    "num_samples=20000\n",
    "data='CIFAR10'\n",
    "exp_types=['ixg']\n",
    "attack_type = 'L1 Norm'\n",
    "\n",
    "tpr_new_vs_thres_df = pd.DataFrame(columns=[\n",
    "    'explanation_type', 'epochs',\n",
    "    'tpr_01_mean', 'tpr01_sd',\n",
    "    'tpr_01_thres_mean', 'tpr01_thres_sd',\n",
    "    'tpr_001_mean', 'tpr_001_sd',\n",
    "    'tpr_001_thres_mean', 'tpr_001_thres_sd',\n",
    "    'auc_mean', 'auc_sd',\n",
    "    'auc_thres_mean', 'auc_thres_sd'])\n",
    "\n",
    "for exp_type in tqdm(exp_types):\n",
    "    for ep in epochs_nondp:\n",
    "        tpr01_file = f'attack_data/tpr01_{data}_{attack_type}/model={model}_mode={clipping_mode_nondp}_type={exp_type}_epochs={ep}.txt'\n",
    "        tpr01_list = np.loadtxt(tpr01_file)\n",
    "        tpr001_file = f'attack_data/tpr001_{data}_{attack_type}/model={model}_mode={clipping_mode_nondp}_type={exp_type}_epochs={ep}.txt'\n",
    "        tpr001_list = np.loadtxt(tpr001_file)\n",
    "        \n",
    "        tpr01_thres_file = f'attack_data/tpr01thres_{data}_{attack_type}/model={model}_mode={clipping_mode_nondp}_type={exp_type}_epochs={ep}.txt'\n",
    "        tpr01_thres_list = np.loadtxt(tpr01_thres_file)\n",
    "        tpr001_thres_file = f'attack_data/tpr001thres_{data}_{attack_type}/model={model}_mode={clipping_mode_nondp}_type={exp_type}_epochs={ep}.txt'\n",
    "        tpr001_thres_list = np.loadtxt(tpr001_thres_file)\n",
    "        \n",
    "        auc_file = f'attack_data/auc_{data}_{attack_type}/model={model}_mode={clipping_mode_nondp}_type={exp_type}_epochs={ep}.txt'\n",
    "        auc_list = np.loadtxt(auc_file)\n",
    "        auc_thres_file = f'attack_data/aucthres_{data}_{attack_type}/model={model}_mode={clipping_mode_nondp}_type={exp_type}_epochs={ep}.txt'\n",
    "        auc_thres_list = np.loadtxt(auc_thres_file)\n",
    "        \n",
    "        row_tpr = {\n",
    "            'explanation_type': exp_type,\n",
    "            'epochs': ep,\n",
    "            'tpr01_mean': np.mean(tpr01_list),\n",
    "            'tpr01_sd': np.std(tpr01_list),\n",
    "            'tpr01_thres_mean': np.mean(tpr01_thres_list),\n",
    "            'tpr01_thres_sd': np.std(tpr01_thres_list),\n",
    "            'tpr001_mean': np.mean(tpr001_list),\n",
    "            'tpr001_sd': np.std(tpr001_list),\n",
    "            'tpr001_thres_mean': np.mean(tpr001_thres_list),\n",
    "            'tpr001_thres_sd': np.std(tpr001_thres_list),\n",
    "            'auc_mean': np.mean(auc_list),\n",
    "            'auc_sd': np.std(auc_list),\n",
    "            'auc_thres_mean': np.mean(auc_thres_list),\n",
    "            'auc_thres_sd': np.std(auc_thres_list)\n",
    "        }\n",
    "        print(row_tpr)\n",
    "        tpr_new_vs_thres_df.loc[len(tpr_new_vs_thres_df)]= list(row_tpr.values())\n",
    "    \n",
    "tpr_new_vs_thres_df.to_csv(f'attack_metrics/tprs_nondp_liravsthres_{data}_{attack_type}.csv')\n",
    "tpr_new_vs_thres_df"
   ]
  },
  {
   "cell_type": "markdown",
   "id": "5b675003",
   "metadata": {},
   "source": [
    "### cifar10: non-DP models only, 33 runs, comparing L1-LRT with Loss LiRA"
   ]
  },
  {
   "cell_type": "code",
   "execution_count": 3,
   "id": "1859500d",
   "metadata": {},
   "outputs": [
    {
     "data": {
      "application/vnd.jupyter.widget-view+json": {
       "model_id": "7cfc3c9e974942978533473085b6c169",
       "version_major": 2,
       "version_minor": 0
      },
      "text/plain": [
       "  0%|          | 0/1 [00:00<?, ?it/s]"
      ]
     },
     "metadata": {},
     "output_type": "display_data"
    },
    {
     "name": "stdout",
     "output_type": "stream",
     "text": [
      "{'explanation_type': 'ixg', 'epochs': 30, 'tpr01_mean': 0.15621818181818184, 'tpr01_sd': 0.015731987382312674, 'tpr01_loss_mean': 0.0946212121212121, 'tpr01_loss_sd': 0.011575830556647619, 'tpr001_mean': 0.0921939393939394, 'tpr001_sd': 0.018633660311446795, 'tpr001_loss_mean': 0.05428484848484849, 'tpr001_loss_sd': 0.0071114555988643375, 'auc_mean': 0.6380133166666668, 'auc_sd': 0.007334452739926561, 'auc_loss_mean': 0.5696043016666666, 'auc_loss_sd': 0.009400881991053203}\n"
     ]
    },
    {
     "data": {
      "text/html": [
       "<div>\n",
       "<style scoped>\n",
       "    .dataframe tbody tr th:only-of-type {\n",
       "        vertical-align: middle;\n",
       "    }\n",
       "\n",
       "    .dataframe tbody tr th {\n",
       "        vertical-align: top;\n",
       "    }\n",
       "\n",
       "    .dataframe thead th {\n",
       "        text-align: right;\n",
       "    }\n",
       "</style>\n",
       "<table border=\"1\" class=\"dataframe\">\n",
       "  <thead>\n",
       "    <tr style=\"text-align: right;\">\n",
       "      <th></th>\n",
       "      <th>explanation_type</th>\n",
       "      <th>epochs</th>\n",
       "      <th>tpr_01_mean</th>\n",
       "      <th>tpr01_sd</th>\n",
       "      <th>tpr_01_loss_mean</th>\n",
       "      <th>tpr01_loss_sd</th>\n",
       "      <th>tpr_001_mean</th>\n",
       "      <th>tpr_001_sd</th>\n",
       "      <th>tpr_001_loss_mean</th>\n",
       "      <th>tpr_001_loss_sd</th>\n",
       "      <th>auc_mean</th>\n",
       "      <th>auc_sd</th>\n",
       "      <th>auc_loss_mean</th>\n",
       "      <th>auc_loss_sd</th>\n",
       "    </tr>\n",
       "  </thead>\n",
       "  <tbody>\n",
       "    <tr>\n",
       "      <th>0</th>\n",
       "      <td>ixg</td>\n",
       "      <td>30</td>\n",
       "      <td>0.156218</td>\n",
       "      <td>0.015732</td>\n",
       "      <td>0.094621</td>\n",
       "      <td>0.011576</td>\n",
       "      <td>0.092194</td>\n",
       "      <td>0.018634</td>\n",
       "      <td>0.054285</td>\n",
       "      <td>0.007111</td>\n",
       "      <td>0.638013</td>\n",
       "      <td>0.007334</td>\n",
       "      <td>0.569604</td>\n",
       "      <td>0.009401</td>\n",
       "    </tr>\n",
       "  </tbody>\n",
       "</table>\n",
       "</div>"
      ],
      "text/plain": [
       "  explanation_type  epochs  tpr_01_mean  tpr01_sd  tpr_01_loss_mean  \\\n",
       "0              ixg      30     0.156218  0.015732          0.094621   \n",
       "\n",
       "   tpr01_loss_sd  tpr_001_mean  tpr_001_sd  tpr_001_loss_mean  \\\n",
       "0       0.011576      0.092194    0.018634           0.054285   \n",
       "\n",
       "   tpr_001_loss_sd  auc_mean    auc_sd  auc_loss_mean  auc_loss_sd  \n",
       "0         0.007111  0.638013  0.007334       0.569604     0.009401  "
      ]
     },
     "execution_count": 3,
     "metadata": {},
     "output_type": "execute_result"
    }
   ],
   "source": [
    "num_experiments=33\n",
    "epochs_nondp = [30]\n",
    "model='vit_small_patch16_224' # 'vit_relpos_small_patch16_224.sw_in1k'\n",
    "clipping_mode_nondp='nonDP'\n",
    "num_samples=20000\n",
    "data='CIFAR10'\n",
    "exp_types=['ixg']\n",
    "attack_type = 'L1 Norm'\n",
    "\n",
    "tpr_new_vs_loss_df = pd.DataFrame(columns=[\n",
    "    'explanation_type', 'epochs',\n",
    "    'tpr_01_mean', 'tpr01_sd',\n",
    "    'tpr_01_loss_mean', 'tpr01_loss_sd',\n",
    "    'tpr_001_mean', 'tpr_001_sd',\n",
    "    'tpr_001_loss_mean', 'tpr_001_loss_sd',\n",
    "    'auc_mean', 'auc_sd',\n",
    "    'auc_loss_mean', 'auc_loss_sd'])\n",
    "# nonDP\n",
    "\n",
    "for exp_type in tqdm(exp_types):\n",
    "    for ep in epochs_nondp:\n",
    "        tpr01_file = f'attack_data/tpr01_{data}_{attack_type}/model={model}_mode={clipping_mode_nondp}_type={exp_type}_epochs={ep}.txt'\n",
    "        tpr01_list = np.loadtxt(tpr01_file)\n",
    "        tpr001_file = f'attack_data/tpr001_{data}_{attack_type}/model={model}_mode={clipping_mode_nondp}_type={exp_type}_epochs={ep}.txt'\n",
    "        tpr001_list = np.loadtxt(tpr001_file)\n",
    "        \n",
    "        tpr01_loss_file = f'attack_data/tpr01_{data}_Losses/model={model}_mode={clipping_mode_nondp}_epochs={ep}.txt'\n",
    "        tpr01_loss_list = np.loadtxt(tpr01_loss_file)\n",
    "        tpr001_loss_file = f'attack_data/tpr001_{data}_Losses/model={model}_mode={clipping_mode_nondp}_epochs={ep}.txt'\n",
    "        tpr001_loss_list = np.loadtxt(tpr001_loss_file)\n",
    "        \n",
    "        auc_file = f'attack_data/auc_{data}_{attack_type}/model={model}_mode={clipping_mode_nondp}_type={exp_type}_epochs={ep}.txt'\n",
    "        auc_list = np.loadtxt(auc_file)\n",
    "        auc_loss_file = f'attack_data/auc_{data}_Losses/model={model}_mode={clipping_mode_nondp}_epochs={ep}.txt'\n",
    "        auc_loss_list = np.loadtxt(auc_loss_file)\n",
    "        \n",
    "        row_tpr = {\n",
    "            'explanation_type': exp_type,\n",
    "            'epochs': ep,\n",
    "            'tpr01_mean': np.mean(tpr01_list),\n",
    "            'tpr01_sd': np.std(tpr01_list),\n",
    "            'tpr01_loss_mean': np.mean(tpr01_loss_list),\n",
    "            'tpr01_loss_sd': np.std(tpr01_loss_list),\n",
    "            'tpr001_mean': np.mean(tpr001_list),\n",
    "            'tpr001_sd': np.std(tpr001_list),\n",
    "            'tpr001_loss_mean': np.mean(tpr001_loss_list),\n",
    "            'tpr001_loss_sd': np.std(tpr001_loss_list),\n",
    "            'auc_mean': np.mean(auc_list),\n",
    "            'auc_sd': np.std(auc_list),\n",
    "            'auc_loss_mean': np.mean(auc_loss_list),\n",
    "            'auc_loss_sd': np.std(auc_loss_list)\n",
    "        }\n",
    "        print(row_tpr)\n",
    "        tpr_new_vs_loss_df.loc[len(tpr_new_vs_loss_df)]= list(row_tpr.values())\n",
    "    \n",
    "tpr_new_vs_loss_df.to_csv(f'attack_metrics/tprs_nondp_liravsloss_{data}_{attack_type}.csv')\n",
    "tpr_new_vs_loss_df"
   ]
  },
  {
   "cell_type": "code",
   "execution_count": null,
   "id": "e17102fb",
   "metadata": {},
   "outputs": [],
   "source": []
  }
 ],
 "metadata": {
  "kernelspec": {
   "display_name": "Python 3.10.13 (cnn2)",
   "language": "python",
   "name": "cnn2"
  },
  "language_info": {
   "codemirror_mode": {
    "name": "ipython",
    "version": 3
   },
   "file_extension": ".py",
   "mimetype": "text/x-python",
   "name": "python",
   "nbconvert_exporter": "python",
   "pygments_lexer": "ipython3",
   "version": "3.8.18"
  }
 },
 "nbformat": 4,
 "nbformat_minor": 5
}
